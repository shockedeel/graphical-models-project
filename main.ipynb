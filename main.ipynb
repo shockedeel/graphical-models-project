{
 "cells": [
  {
   "cell_type": "code",
   "execution_count": 4,
   "metadata": {},
   "outputs": [],
   "source": [
    "import pandas as pd\n",
    "import numpy as np\n",
    "\n",
    "\n",
    "\n",
    "va_activity_loc_assign = pd.read_csv('va_activity_location_assignment.csv.gz', compression='gzip').iloc[:,1:]\n",
    "va_activity_locations = pd.read_csv('va_activity_locations.csv.gz', compression='gzip').iloc[:,1:]\n",
    "va_disease_outcome_target = pd.read_csv('va_disease_outcome_target.csv.gz', compression='gzip').iloc[:,1:]\n",
    "va_disease_outcome_training = pd.read_csv('va_disease_outcome_training.csv.gz', compression='gzip')\n",
    "va_household = pd.read_csv('va_household.csv.gz', compression = 'gzip').iloc[:,1:]\n",
    "va_person = pd.read_csv('va_person.csv.gz', compression='gzip')\n",
    "va_population_network = pd.read_csv('va_population_network.csv.gz', compression='gzip')\n",
    "va_residence_locations = pd.read_csv('va_residence_locations.csv.gz', compression='gzip').iloc[:,1:]\n",
    "# va_residence_locations.head()"
   ]
  },
  {
   "cell_type": "code",
   "execution_count": 5,
   "metadata": {},
   "outputs": [],
   "source": [
    "##### Locations they been to in past week - and how frequent it is\n",
    "##### Spread stats for last week at said locations\n",
    "##### Age, sex\n",
    "##### Household number\n",
    "##### Raw duration of time spent with infected neighbors\n",
    "##### One hot encoding of types of activities participated in or weighted with how long they did those\n",
    "#####\n",
    "\n",
    "class GraphStats:\n",
    "    def __init__(self, va_activity_loc_assign, va_activity_locations, va_disease_outcome_target, va_disease_outcome_training, va_household, va_person, va_population_network, va_residence_locations) -> None:\n",
    "        self.va_activity_loc_assign = va_activity_loc_assign\n",
    "        self.va_activity_locations = va_activity_locations\n",
    "        self.va_disease_outcome_target = va_disease_outcome_target\n",
    "        self.va_disease_outcome_training = va_disease_outcome_training\n",
    "        self.va_household = va_household\n",
    "        self.va_person = va_person\n",
    "        self.va_population_network = va_population_network\n",
    "        self.va_residence_locations = va_residence_locations\n",
    "\n",
    "    ##gets age and sex of a specified person\n",
    "    def get_age_sex(self, pid):\n",
    "        res = self.va_person.loc[self.va_person.loc['pid']==pid]\n",
    "        return (res['age'],res['sex'])\n",
    "\n",
    "    ### gets household members including person\n",
    "    def household_members(self, pid):\n",
    "        hid = self.va_person.query('pid == @pid')['hid'][0]\n",
    "        return self.va_person.query('hid == @hid')['pid'].to_numpy()\n",
    "    \n",
    "    # how long a person is in contact with a infected people on a given day\n",
    "    def get_raw_time_with_infected_day(self, pid, day,interactions=None,pids = None, disease_info=None):\n",
    "        time = 0\n",
    "        if(interactions is None):\n",
    "            interactions = self.va_population_network.query('pid1 == @pid or pid2 == @pid')\n",
    "            pid1 = interactions['pid1'].to_numpy()\n",
    "            pid2 = interactions['pid2'].to_numpy()\n",
    "            \n",
    "            pids = np.concatenate((pid1, pid2))\n",
    "            pids = pids[pids!=pid]\n",
    "            disease_info = self.va_disease_outcome_training.query('pid in @pids and state== \"I\"')\n",
    "\n",
    "        disease = disease_info.query(\"day == @day\")\n",
    "        #print(\"info: \", disease_info)\n",
    "       # print(interactions)\n",
    "        for neighbor in disease.iterrows():\n",
    "            n_pid = neighbor[1]['pid']\n",
    "            \n",
    "            time += interactions.query('pid1 == @n_pid or pid2 == @n_pid')['duration'].sum()\n",
    "          \n",
    "        \n",
    "\n",
    "        return time\n",
    "    \n",
    "    def get_raw_time_with_infected_week(self, pid, day):\n",
    "        interactions = self.va_population_network.query('pid1 == @pid or pid2 == @pid')\n",
    "        pid1 = interactions['pid1'].to_numpy()\n",
    "        pid2 = interactions['pid2'].to_numpy()\n",
    "        \n",
    "        pids = np.concatenate((pid1, pid2))\n",
    "        pids = pids[pids!=pid]\n",
    "        time = 0\n",
    "        disease_info = self.va_disease_outcome_training.query('pid in @pids and state== \"I\"')\n",
    "        for i in range(day-6, day+1):\n",
    "            time += self.get_raw_time_with_infected_day(pid, i, interactions, pids, disease_info)\n",
    "    \n",
    "        return time\n",
    "    def get_activity_vector(self, pid):\n",
    "        user_activities = self.va_activity_loc_assign.query('pid == @pid')\n",
    "        activity_vector = np.zeros(6)\n",
    "        for i in range(1, 7):\n",
    "            activity_vector[i-1] += user_activities.query('activity_type == @i')['duration'].sum()\n",
    "        return activity_vector\n",
    "\n",
    "    def get_location_durations(self, pid):\n",
    "        location_durations = {}\n",
    "        user_activities = self.va_activity_loc_assign.query('pid == @pid')\n",
    "        for index, row in user_activities.iterrows():\n",
    "            location_durations[row['lid']] = location_durations.get(row['lid'], 0) + row['duration']\n",
    "        return location_durations\n"
   ]
  },
  {
   "cell_type": "code",
   "execution_count": 7,
   "metadata": {},
   "outputs": [
    {
     "name": "stdout",
     "output_type": "stream",
     "text": [
      "        hid      pid  activity_number  activity_type  start_time  duration   \n",
      "0   1781818  4543749               19              1           0     14400  \\\n",
      "1   1781818  4543749               20              1       14400     10080   \n",
      "2   1781818  4543749               22              2       25680     13020   \n",
      "3   1781818  4543749               24              1       39900      6900   \n",
      "4   1781818  4543749               26              3       47220       840   \n",
      "5   1781818  4543749               28              1       48300     38099   \n",
      "6   1781818  4543752               15              1           0     14400   \n",
      "7   1781818  4543752               16              1       14400     16200   \n",
      "8   1781818  4543752               18              2       32040     29160   \n",
      "9   1781818  4543752               20              3       61620      1500   \n",
      "10  1781818  4543752               22              1       64740     21659   \n",
      "11  1781819  4543753               11              1           0     14400   \n",
      "12  1781819  4543753               12              1       14400      9600   \n",
      "13  1781819  4543753               14              2       25080     37380   \n",
      "14  1781819  4543753               16              1       64740     21659   \n",
      "15  1781819  4543754                7              1           0     14400   \n",
      "16  1781819  4543754                8              4       14400     39600   \n",
      "17  1781819  4543754               10              4       54960      1080   \n",
      "18  1781819  4543754               12              1       57120     29279   \n",
      "19  1781820  4543757                9              1           0     14400   \n",
      "\n",
      "           lid  \n",
      "0   1001002120  \n",
      "1   1001002120  \n",
      "2        86307  \n",
      "3   1001002120  \n",
      "4         3474  \n",
      "5   1001002120  \n",
      "6   1001002120  \n",
      "7   1001002120  \n",
      "8       100353  \n",
      "9        22298  \n",
      "10  1001002120  \n",
      "11  1001002121  \n",
      "12  1001002121  \n",
      "13       91741  \n",
      "14  1001002121  \n",
      "15  1001002121  \n",
      "16      122787  \n",
      "17      100518  \n",
      "18  1001002121  \n",
      "19  1001002125  \n",
      "{1001002120: 69479, 86307: 13020, 3474: 840}\n"
     ]
    },
    {
     "data": {
      "text/plain": [
       "0"
      ]
     },
     "execution_count": 7,
     "metadata": {},
     "output_type": "execute_result"
    }
   ],
   "source": [
    "test = GraphStats(va_activity_loc_assign, va_activity_locations, va_disease_outcome_target, va_disease_outcome_training, va_household, va_person, va_population_network, va_residence_locations)  \n",
    "\n",
    "print(va_activity_loc_assign.head(20))\n",
    "print(test.get_location_durations(4543749))\n",
    "test.get_raw_time_with_infected_day(4543889,21)\n",
    "test.get_raw_time_with_infected_week(4543889, 50)"
   ]
  },
  {
   "cell_type": "code",
   "execution_count": 14,
   "metadata": {},
   "outputs": [
    {
     "ename": "ValueError",
     "evalue": "The truth value of a Series is ambiguous. Use a.empty, a.bool(), a.item(), a.any() or a.all().",
     "output_type": "error",
     "traceback": [
      "\u001b[1;31m---------------------------------------------------------------------------\u001b[0m",
      "\u001b[1;31mValueError\u001b[0m                                Traceback (most recent call last)",
      "Cell \u001b[1;32mIn[14], line 4\u001b[0m\n\u001b[0;32m      1\u001b[0m \u001b[39mfrom\u001b[39;00m \u001b[39mpreprocess\u001b[39;00m \u001b[39mimport\u001b[39;00m PreProcessor\n\u001b[0;32m      3\u001b[0m p \u001b[39m=\u001b[39m PreProcessor(va_activity_loc_assign, va_activity_locations, va_disease_outcome_target, va_disease_outcome_training, va_household, va_person, va_population_network, va_residence_locations)\n\u001b[1;32m----> 4\u001b[0m p\u001b[39m.\u001b[39;49mget_training_labels(\u001b[39m4543889\u001b[39;49m)\n",
      "File \u001b[1;32mc:\\Users\\kolbe\\OneDrive\\Documents\\Work\\PGM-Project\\preprocess.py:21\u001b[0m, in \u001b[0;36mPreProcessor.get_training_labels\u001b[1;34m(self, pid)\u001b[0m\n\u001b[0;32m     19\u001b[0m lab \u001b[39m=\u001b[39m \u001b[39m0\u001b[39m\n\u001b[0;32m     20\u001b[0m \u001b[39mfor\u001b[39;00m j \u001b[39min\u001b[39;00m \u001b[39mrange\u001b[39m(i\u001b[39m-\u001b[39m\u001b[39m6\u001b[39m, i\u001b[39m+\u001b[39m\u001b[39m1\u001b[39m):\n\u001b[1;32m---> 21\u001b[0m     \u001b[39mif\u001b[39;00m(outcomes\u001b[39m.\u001b[39mquery(\u001b[39m'\u001b[39m\u001b[39mday == @j\u001b[39m\u001b[39m'\u001b[39m)[\u001b[39m'\u001b[39m\u001b[39mstate\u001b[39m\u001b[39m'\u001b[39m] \u001b[39m==\u001b[39m \u001b[39m'\u001b[39m\u001b[39mI\u001b[39m\u001b[39m'\u001b[39m):\n\u001b[0;32m     22\u001b[0m         lab \u001b[39m=\u001b[39m \u001b[39m1\u001b[39m\n\u001b[0;32m     23\u001b[0m         \u001b[39mbreak\u001b[39;00m\n",
      "File \u001b[1;32mc:\\Users\\kolbe\\AppData\\Local\\Programs\\Python\\Python311\\Lib\\site-packages\\pandas\\core\\generic.py:1466\u001b[0m, in \u001b[0;36mNDFrame.__nonzero__\u001b[1;34m(self)\u001b[0m\n\u001b[0;32m   1464\u001b[0m \u001b[39m@final\u001b[39m\n\u001b[0;32m   1465\u001b[0m \u001b[39mdef\u001b[39;00m \u001b[39m__nonzero__\u001b[39m(\u001b[39mself\u001b[39m) \u001b[39m-\u001b[39m\u001b[39m>\u001b[39m NoReturn:\n\u001b[1;32m-> 1466\u001b[0m     \u001b[39mraise\u001b[39;00m \u001b[39mValueError\u001b[39;00m(\n\u001b[0;32m   1467\u001b[0m         \u001b[39mf\u001b[39m\u001b[39m\"\u001b[39m\u001b[39mThe truth value of a \u001b[39m\u001b[39m{\u001b[39;00m\u001b[39mtype\u001b[39m(\u001b[39mself\u001b[39m)\u001b[39m.\u001b[39m\u001b[39m__name__\u001b[39m\u001b[39m}\u001b[39;00m\u001b[39m is ambiguous. \u001b[39m\u001b[39m\"\u001b[39m\n\u001b[0;32m   1468\u001b[0m         \u001b[39m\"\u001b[39m\u001b[39mUse a.empty, a.bool(), a.item(), a.any() or a.all().\u001b[39m\u001b[39m\"\u001b[39m\n\u001b[0;32m   1469\u001b[0m     )\n",
      "\u001b[1;31mValueError\u001b[0m: The truth value of a Series is ambiguous. Use a.empty, a.bool(), a.item(), a.any() or a.all()."
     ]
    }
   ],
   "source": [
    "from preprocess import PreProcessor\n",
    "\n",
    "p = PreProcessor(va_activity_loc_assign, va_activity_locations, va_disease_outcome_target, va_disease_outcome_training, va_household, va_person, va_population_network, va_residence_locations)\n",
    "p.get_training_labels(4543889)\n"
   ]
  }
 ],
 "metadata": {
  "kernelspec": {
   "display_name": "Python 3",
   "language": "python",
   "name": "python3"
  },
  "language_info": {
   "codemirror_mode": {
    "name": "ipython",
    "version": 3
   },
   "file_extension": ".py",
   "mimetype": "text/x-python",
   "name": "python",
   "nbconvert_exporter": "python",
   "pygments_lexer": "ipython3",
   "version": "3.11.3"
  },
  "orig_nbformat": 4
 },
 "nbformat": 4,
 "nbformat_minor": 2
}
