{
 "cells": [
  {
   "cell_type": "code",
   "execution_count": 2,
   "metadata": {},
   "outputs": [],
   "source": [
    "import pandas as pd\n",
    "import numpy as np\n",
    "\n",
    "\n",
    "\n",
    "va_activity_loc_assign = pd.read_csv('va_activity_location_assignment.csv.gz', compression='gzip').iloc[:,1:]\n",
    "va_activity_locations = pd.read_csv('va_activity_locations.csv.gz', compression='gzip').iloc[:,1:]\n",
    "va_disease_outcome_target = pd.read_csv('va_disease_outcome_target.csv.gz', compression='gzip').iloc[:,1:]\n",
    "va_disease_outcome_training = pd.read_csv('va_disease_outcome_training.csv.gz', compression='gzip')\n",
    "va_household = pd.read_csv('va_household.csv.gz', compression = 'gzip').iloc[:,1:]\n",
    "va_person = pd.read_csv('va_person.csv.gz', compression='gzip')\n",
    "va_population_network = pd.read_csv('va_population_network.csv.gz', compression='gzip')\n",
    "va_residence_locations = pd.read_csv('va_residence_locations.csv.gz', compression='gzip').iloc[:,1:]\n",
    "# va_residence_locations.head()"
   ]
  },
  {
   "cell_type": "code",
   "execution_count": 3,
   "metadata": {},
   "outputs": [],
   "source": [
    "from graphstats import GraphStats"
   ]
  },
  {
   "cell_type": "code",
   "execution_count": 4,
   "metadata": {},
   "outputs": [
    {
     "name": "stdout",
     "output_type": "stream",
     "text": [
      "{1001002120: 69479, 86307: 13020, 3474: 840}\n"
     ]
    }
   ],
   "source": [
    "test = GraphStats(va_activity_loc_assign, va_activity_locations, va_disease_outcome_target, va_disease_outcome_training, va_household, va_person, va_population_network, va_residence_locations)  \n",
    "\n",
    "#print(va_activity_loc_assign.head(20))\n",
    "print(test.get_location_durations(4543749))\n",
    "#test.get_raw_time_with_infected_day(4543889,21)\n",
    "#test.get_raw_time_with_infected_week(4543889, 50)"
   ]
  },
  {
   "cell_type": "code",
   "execution_count": 8,
   "metadata": {},
   "outputs": [
    {
     "name": "stdout",
     "output_type": "stream",
     "text": [
      "   Unnamed: 0  day      pid state\n",
      "0     4543749    0  4543749     S\n",
      "1     4543750    0  4543750     S\n",
      "2     4543751    0  4543751     S\n",
      "3     4543752    0  4543752     S\n",
      "4     4543753    0  4543753     S\n",
      "       pid  infected\n",
      "0  4543749         0\n",
      "1  4543750         0\n",
      "2  4543751         0\n",
      "3  4543752         0\n",
      "4  4543753         0\n"
     ]
    }
   ],
   "source": [
    "print(va_disease_outcome_training.head())\n",
    "print(va_disease_outcome_target.head())"
   ]
  },
  {
   "cell_type": "code",
   "execution_count": null,
   "metadata": {},
   "outputs": [],
   "source": []
  },
  {
   "cell_type": "code",
   "execution_count": 6,
   "metadata": {},
   "outputs": [
    {
     "data": {
      "text/plain": [
       "array([0, 0, 0, 0, 0, 0, 0, 0, 0, 0, 0, 0, 0, 0, 0, 0, 0, 0, 0, 0, 0, 0,\n",
       "       0, 0, 0, 0, 0, 0, 0, 0, 0, 0, 0, 0, 0, 0, 0, 0, 0, 0, 0, 0, 0, 0,\n",
       "       0, 0, 0, 0, 0, 0])"
      ]
     },
     "execution_count": 6,
     "metadata": {},
     "output_type": "execute_result"
    }
   ],
   "source": [
    "from preprocess import PreProcessor\n",
    "\n",
    "p = PreProcessor(va_activity_loc_assign, va_activity_locations, va_disease_outcome_target, va_disease_outcome_training, va_household, va_person, va_population_network, va_residence_locations)\n",
    "p.get_training_labels(4543889)\n"
   ]
  }
 ],
 "metadata": {
  "kernelspec": {
   "display_name": "Python 3",
   "language": "python",
   "name": "python3"
  },
  "language_info": {
   "codemirror_mode": {
    "name": "ipython",
    "version": 3
   },
   "file_extension": ".py",
   "mimetype": "text/x-python",
   "name": "python",
   "nbconvert_exporter": "python",
   "pygments_lexer": "ipython3",
   "version": "3.11.3"
  },
  "orig_nbformat": 4
 },
 "nbformat": 4,
 "nbformat_minor": 2
}
