{
 "cells": [
  {
   "cell_type": "code",
   "execution_count": 1,
   "metadata": {},
   "outputs": [],
   "source": [
    "import pandas as pd\n",
    "import numpy as np\n",
    "\n",
    "\n",
    "\n",
    "va_activity_loc_assign = pd.read_csv('va_activity_location_assignment.csv.gz', compression='gzip').iloc[:,1:]\n",
    "va_activity_locations = pd.read_csv('va_activity_locations.csv.gz', compression='gzip').iloc[:,1:]\n",
    "va_disease_outcome_target = pd.read_csv('va_disease_outcome_target.csv.gz', compression='gzip').iloc[:,1:]\n",
    "va_disease_outcome_training = pd.read_csv('va_disease_outcome_training.csv.gz', compression='gzip')\n",
    "va_household = pd.read_csv('va_household.csv.gz', compression = 'gzip').iloc[:,1:]\n",
    "va_person = pd.read_csv('va_person.csv.gz', compression='gzip')\n",
    "va_population_network = pd.read_csv('va_population_network.csv.gz', compression='gzip')\n",
    "va_residence_locations = pd.read_csv('va_residence_locations.csv.gz', compression='gzip').iloc[:,1:]\n",
    "# va_residence_locations.head()"
   ]
  },
  {
   "cell_type": "code",
   "execution_count": 2,
   "metadata": {},
   "outputs": [],
   "source": [
    "from graphstats import GraphStats"
   ]
  },
  {
   "cell_type": "code",
   "execution_count": 3,
   "metadata": {},
   "outputs": [
    {
     "name": "stdout",
     "output_type": "stream",
     "text": [
      "4860\n",
      "{13113: 0.0008692124934809063, 77597: 0.01187923741090572, 124739: 0.0008692124934809063, 68940: 0.00028973749782696876, 77619: 0.08941299182940256, 77513: 0.1613837862896216, 100518: 0.007359332444805007, 12251: 0.0139073998956945, 128211: 0.032160862258793534, 6120: 0.02086109984354175, 57098: 0.003187112476096656, 89786: 0.03303007475227444, 89604: 0.004346062467404531, 109379: 0.00695369994784725, 100189: 0.012168974908732689, 81646: 0.06084487454366344, 125200: 0.005215274960885438, 84149: 0.012690502404821231, 56811: 0.009213652430897607, 77561: 0.15645824882656315, 79035: 0.10807208668945935, 122116: 0.03476849973923625, 14842: 0.012168974908732689, 96261: 0.026076374804427187, 119177: 0.010430549921770876, 132169: 0.00028973749782696876, 77537: 0.02827837978791215, 121827: 0.13212029900909775, 89584: 0.004693747464796894}\n"
     ]
    }
   ],
   "source": [
    "test = GraphStats(va_activity_loc_assign, va_activity_locations, va_disease_outcome_target, va_disease_outcome_training, va_household, va_person, va_population_network, va_residence_locations)  \n",
    "\n",
    "#print(va_activity_loc_assign.head(20))\n",
    "#print(test.get_location_durations(4543749))\n",
    "print(test.get_raw_time_with_infected_day(4543889,21))\n",
    "#test.get_raw_time_with_infected_week(4543889, 50)\n",
    "print(test.get_location_risk_level())"
   ]
  },
  {
   "cell_type": "code",
   "execution_count": 4,
   "metadata": {},
   "outputs": [
    {
     "name": "stdout",
     "output_type": "stream",
     "text": [
      "   Unnamed: 0  day      pid state\n",
      "0     4543749    0  4543749     S\n",
      "1     4543750    0  4543750     S\n",
      "2     4543751    0  4543751     S\n",
      "3     4543752    0  4543752     S\n",
      "4     4543753    0  4543753     S\n",
      "       pid  infected\n",
      "0  4543749         0\n",
      "1  4543750         0\n",
      "2  4543751         0\n",
      "3  4543752         0\n",
      "4  4543753         0\n"
     ]
    }
   ],
   "source": [
    "print(va_disease_outcome_training.head())\n",
    "print(va_disease_outcome_target.head())\n"
   ]
  },
  {
   "cell_type": "code",
   "execution_count": null,
   "metadata": {},
   "outputs": [],
   "source": []
  },
  {
   "cell_type": "code",
   "execution_count": 5,
   "metadata": {},
   "outputs": [],
   "source": [
    "from preprocess import PreProcessor\n",
    "import run\n",
    "\n"
   ]
  },
  {
   "cell_type": "code",
   "execution_count": 6,
   "metadata": {},
   "outputs": [
    {
     "ename": "FileNotFoundError",
     "evalue": "[Errno 2] No such file or directory: 'dataset.pkl'",
     "output_type": "error",
     "traceback": [
      "\u001b[1;31m---------------------------------------------------------------------------\u001b[0m",
      "\u001b[1;31mFileNotFoundError\u001b[0m                         Traceback (most recent call last)",
      "\u001b[1;32m~\\AppData\\Local\\Temp/ipykernel_32452/2871121185.py\u001b[0m in \u001b[0;36m<module>\u001b[1;34m\u001b[0m\n\u001b[1;32m----> 1\u001b[1;33m \u001b[0mrun\u001b[0m\u001b[1;33m.\u001b[0m\u001b[0mrun\u001b[0m\u001b[1;33m(\u001b[0m\u001b[0mva_activity_loc_assign\u001b[0m\u001b[1;33m,\u001b[0m \u001b[0mva_activity_locations\u001b[0m\u001b[1;33m,\u001b[0m \u001b[0mva_disease_outcome_target\u001b[0m\u001b[1;33m,\u001b[0m \u001b[0mva_disease_outcome_training\u001b[0m\u001b[1;33m,\u001b[0m \u001b[0mva_household\u001b[0m\u001b[1;33m,\u001b[0m \u001b[0mva_person\u001b[0m\u001b[1;33m,\u001b[0m \u001b[0mva_population_network\u001b[0m\u001b[1;33m,\u001b[0m \u001b[0mva_residence_locations\u001b[0m\u001b[1;33m)\u001b[0m\u001b[1;33m\u001b[0m\u001b[1;33m\u001b[0m\u001b[0m\n\u001b[0m",
      "\u001b[1;32mc:\\Users\\trent\\graphical-models-project-1\\run.py\u001b[0m in \u001b[0;36mrun\u001b[1;34m(va_activity_loc_assign, va_activity_locations, va_disease_outcome_target, va_disease_outcome_training, va_household, va_person, va_population_network, va_residence_locations)\u001b[0m\n\u001b[0;32m      8\u001b[0m \u001b[1;32mdef\u001b[0m \u001b[0mrun\u001b[0m\u001b[1;33m(\u001b[0m\u001b[0mva_activity_loc_assign\u001b[0m\u001b[1;33m,\u001b[0m \u001b[0mva_activity_locations\u001b[0m\u001b[1;33m,\u001b[0m \u001b[0mva_disease_outcome_target\u001b[0m\u001b[1;33m,\u001b[0m \u001b[0mva_disease_outcome_training\u001b[0m\u001b[1;33m,\u001b[0m \u001b[0mva_household\u001b[0m\u001b[1;33m,\u001b[0m \u001b[0mva_person\u001b[0m\u001b[1;33m,\u001b[0m \u001b[0mva_population_network\u001b[0m\u001b[1;33m,\u001b[0m \u001b[0mva_residence_locations\u001b[0m\u001b[1;33m)\u001b[0m\u001b[1;33m:\u001b[0m\u001b[1;33m\u001b[0m\u001b[1;33m\u001b[0m\u001b[0m\n\u001b[0;32m      9\u001b[0m     \u001b[0mp\u001b[0m \u001b[1;33m=\u001b[0m \u001b[0mPreProcessor\u001b[0m\u001b[1;33m(\u001b[0m\u001b[0mva_activity_loc_assign\u001b[0m\u001b[1;33m,\u001b[0m \u001b[0mva_activity_locations\u001b[0m\u001b[1;33m,\u001b[0m \u001b[0mva_disease_outcome_target\u001b[0m\u001b[1;33m,\u001b[0m \u001b[0mva_disease_outcome_training\u001b[0m\u001b[1;33m,\u001b[0m \u001b[0mva_household\u001b[0m\u001b[1;33m,\u001b[0m \u001b[0mva_person\u001b[0m\u001b[1;33m,\u001b[0m \u001b[0mva_population_network\u001b[0m\u001b[1;33m,\u001b[0m \u001b[0mva_residence_locations\u001b[0m\u001b[1;33m)\u001b[0m\u001b[1;33m\u001b[0m\u001b[1;33m\u001b[0m\u001b[0m\n\u001b[1;32m---> 10\u001b[1;33m     \u001b[0mdata\u001b[0m\u001b[1;33m,\u001b[0m \u001b[0mpids\u001b[0m\u001b[1;33m,\u001b[0m \u001b[0mdays\u001b[0m\u001b[1;33m,\u001b[0m \u001b[0mlabels\u001b[0m \u001b[1;33m=\u001b[0m \u001b[0mp\u001b[0m\u001b[1;33m.\u001b[0m\u001b[0mpickle_processing\u001b[0m\u001b[1;33m(\u001b[0m\u001b[1;33m)\u001b[0m\u001b[1;33m\u001b[0m\u001b[1;33m\u001b[0m\u001b[0m\n\u001b[0m\u001b[0;32m     11\u001b[0m \u001b[1;33m\u001b[0m\u001b[0m\n\u001b[0;32m     12\u001b[0m     \u001b[0minput_shape\u001b[0m \u001b[1;33m=\u001b[0m \u001b[0mdata\u001b[0m\u001b[1;33m.\u001b[0m\u001b[0mshape\u001b[0m\u001b[1;33m[\u001b[0m\u001b[1;36m1\u001b[0m\u001b[1;33m]\u001b[0m\u001b[1;33m\u001b[0m\u001b[1;33m\u001b[0m\u001b[0m\n",
      "\u001b[1;32mc:\\Users\\trent\\graphical-models-project-1\\preprocess.py\u001b[0m in \u001b[0;36mpickle_processing\u001b[1;34m(self)\u001b[0m\n\u001b[0;32m     32\u001b[0m     \u001b[1;32mdef\u001b[0m \u001b[0mpickle_processing\u001b[0m\u001b[1;33m(\u001b[0m\u001b[0mself\u001b[0m\u001b[1;33m)\u001b[0m\u001b[1;33m:\u001b[0m\u001b[1;33m\u001b[0m\u001b[1;33m\u001b[0m\u001b[0m\n\u001b[0;32m     33\u001b[0m         \u001b[0mdata\u001b[0m \u001b[1;33m=\u001b[0m \u001b[1;33m[\u001b[0m\u001b[1;33m]\u001b[0m\u001b[1;33m\u001b[0m\u001b[1;33m\u001b[0m\u001b[0m\n\u001b[1;32m---> 34\u001b[1;33m         \u001b[1;32mwith\u001b[0m \u001b[0mopen\u001b[0m\u001b[1;33m(\u001b[0m\u001b[1;34m'dataset.pkl'\u001b[0m\u001b[1;33m,\u001b[0m \u001b[1;34m'rb'\u001b[0m\u001b[1;33m)\u001b[0m \u001b[1;32mas\u001b[0m \u001b[0mf\u001b[0m\u001b[1;33m:\u001b[0m\u001b[1;33m\u001b[0m\u001b[1;33m\u001b[0m\u001b[0m\n\u001b[0m\u001b[0;32m     35\u001b[0m             \u001b[0mdata\u001b[0m \u001b[1;33m=\u001b[0m \u001b[0mpickle\u001b[0m\u001b[1;33m.\u001b[0m\u001b[0mload\u001b[0m\u001b[1;33m(\u001b[0m\u001b[0mf\u001b[0m\u001b[1;33m)\u001b[0m\u001b[1;33m\u001b[0m\u001b[1;33m\u001b[0m\u001b[0m\n\u001b[0;32m     36\u001b[0m         \u001b[0md\u001b[0m \u001b[1;33m=\u001b[0m \u001b[1;33m[\u001b[0m\u001b[1;33m]\u001b[0m\u001b[1;33m\u001b[0m\u001b[1;33m\u001b[0m\u001b[0m\n",
      "\u001b[1;31mFileNotFoundError\u001b[0m: [Errno 2] No such file or directory: 'dataset.pkl'"
     ]
    }
   ],
   "source": [
    "run.run(va_activity_loc_assign, va_activity_locations, va_disease_outcome_target, va_disease_outcome_training, va_household, va_person, va_population_network, va_residence_locations)"
   ]
  }
 ],
 "metadata": {
  "kernelspec": {
   "display_name": "Python 3",
   "language": "python",
   "name": "python3"
  },
  "language_info": {
   "codemirror_mode": {
    "name": "ipython",
    "version": 3
   },
   "file_extension": ".py",
   "mimetype": "text/x-python",
   "name": "python",
   "nbconvert_exporter": "python",
   "pygments_lexer": "ipython3",
   "version": "3.10.0"
  },
  "orig_nbformat": 4
 },
 "nbformat": 4,
 "nbformat_minor": 2
}
