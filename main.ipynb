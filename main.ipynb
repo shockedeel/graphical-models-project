{
 "cells": [
  {
   "cell_type": "code",
   "execution_count": 7,
   "metadata": {},
   "outputs": [],
   "source": [
    "import pandas as pd\n",
    "import numpy as np\n",
    "\n",
    "\n",
    "\n",
    "va_activity_loc_assign = pd.read_csv('va_activity_location_assignment.csv.gz', compression='gzip').iloc[:,1:]\n",
    "va_activity_locations = pd.read_csv('va_activity_locations.csv.gz', compression='gzip').iloc[:,1:]\n",
    "va_disease_outcome_target = pd.read_csv('va_disease_outcome_target.csv.gz', compression='gzip').iloc[:,1:]\n",
    "va_disease_outcome_training = pd.read_csv('va_disease_outcome_training.csv.gz', compression='gzip')\n",
    "va_household = pd.read_csv('va_household.csv.gz', compression = 'gzip').iloc[:,1:]\n",
    "va_person = pd.read_csv('va_person.csv.gz', compression='gzip')\n",
    "va_population_network = pd.read_csv('va_population_network.csv.gz', compression='gzip')\n",
    "va_residence_locations = pd.read_csv('va_residence_locations.csv.gz', compression='gzip').iloc[:,1:]\n",
    "# va_residence_locations.head()"
   ]
  },
  {
   "cell_type": "code",
   "execution_count": 8,
   "metadata": {},
   "outputs": [],
   "source": [
    "##### Locations they been to in past week - and how frequent it is\n",
    "##### Spread stats for last week at said locations\n",
    "##### Age, sex\n",
    "##### Household number\n",
    "##### Raw duration of time spent with infected neighbors\n",
    "##### One hot encoding of types of activities participated in or weighted with how long they did those\n",
    "#####\n",
    "\n",
    "class GraphStats:\n",
    "    def __init__(self, va_activity_loc_assign, va_activity_locations, va_disease_outcome_target, va_disease_outcome_training, va_household, va_person, va_population_network, va_residence_locations) -> None:\n",
    "        self.va_activity_loc_assign = va_activity_loc_assign\n",
    "        self.va_activity_locations = va_activity_locations\n",
    "        self.va_disease_outcome_target = va_disease_outcome_target\n",
    "        self.va_disease_outcome_training = va_disease_outcome_training\n",
    "        self.va_household = va_household\n",
    "        self.va_person = va_person\n",
    "        self.va_population_network = va_population_network\n",
    "        self.va_residence_locations = va_residence_locations\n",
    "\n",
    "    ##gets age and sex of a specified person\n",
    "    def get_age_sex(self, pid):\n",
    "        res = self.va_person.loc[self.va_person.loc['pid']==pid]\n",
    "        return (res['age'],res['sex'])\n",
    "\n",
    "    ### gets household members including person\n",
    "    def household_members(self, pid):\n",
    "        hid = self.va_person.query('pid == @pid')['hid'][0]\n",
    "        return self.va_person.query('hid == @hid')['pid'].to_numpy()\n",
    "    \n",
    "    # how long a person is in contact with a infected people on a given day\n",
    "    def get_raw_time_with_infected_day(self, pid, day,interactions=None,pids = None, disease_info=None):\n",
    "        time = 0\n",
    "        if(interactions is None):\n",
    "            interactions = self.va_population_network.query('pid1 == @pid or pid2 == @pid')\n",
    "            pid1 = interactions['pid1'].to_numpy()\n",
    "            pid2 = interactions['pid2'].to_numpy()\n",
    "            \n",
    "            pids = np.concatenate((pid1, pid2))\n",
    "            pids = pids[pids!=pid]\n",
    "            disease_info = self.va_disease_outcome_training.query('pid in @pids and state== \"I\"')\n",
    "\n",
    "        disease = disease_info.query(\"day == @day\")\n",
    "        #print(\"info: \", disease_info)\n",
    "       # print(interactions)\n",
    "        for neighbor in disease.iterrows():\n",
    "            n_pid = neighbor[1]['pid']\n",
    "            \n",
    "            time += interactions.query('pid1 == @n_pid or pid2 == @n_pid')['duration'].sum()\n",
    "          \n",
    "        \n",
    "\n",
    "        return time\n",
    "    \n",
    "    def get_raw_time_with_infected_week(self, pid, day):\n",
    "        interactions = self.va_population_network.query('pid1 == @pid or pid2 == @pid')\n",
    "        pid1 = interactions['pid1'].to_numpy()\n",
    "        pid2 = interactions['pid2'].to_numpy()\n",
    "        \n",
    "        pids = np.concatenate((pid1, pid2))\n",
    "        pids = pids[pids!=pid]\n",
    "        time = 0\n",
    "        disease_info = self.va_disease_outcome_training.query('pid in @pids and state== \"I\"')\n",
    "        for i in range(day-6, day+1):\n",
    "            time += self.get_raw_time_with_infected_day(pid, i, interactions, pids, disease_info)\n",
    "        return time\n",
    "    \n",
    "    \n",
    "    def get_activity_vector(self, pid):\n",
    "        user_activities = self.va_activity_loc_assign.query('pid == @pid')\n",
    "        activity_vector = np.zeros(6)\n",
    "        for i in range(1, 7):\n",
    "            activity_vector[i-1] += user_activities.query('activity_type == @i')['duration'].sum()\n",
    "        return activity_vector\n",
    "\n",
    "    def get_location_durations(self, pid):\n",
    "        location_durations = {}\n",
    "        user_activities = self.va_activity_loc_assign.query('pid == @pid')\n",
    "        for index, row in user_activities.iterrows():\n",
    "            location_durations[row['lid']] = location_durations.get(row['lid'], 0) + row['duration']\n",
    "        return location_durations\n"
   ]
  },
  {
   "cell_type": "code",
   "execution_count": 32,
   "metadata": {},
   "outputs": [
    {
     "data": {
      "text/plain": [
       "0"
      ]
     },
     "execution_count": 32,
     "metadata": {},
     "output_type": "execute_result"
    }
   ],
   "source": [
    "test = GraphStats(va_activity_loc_assign, va_activity_locations, va_disease_outcome_target, va_disease_outcome_training, va_household, va_person, va_population_network, va_residence_locations)  \n",
    "\n",
    "test.get_raw_time_with_infected_week(pid=4543749, day=1)\n",
    "\n",
    "# test.va_person.loc[test.va_person.loc['pid']==4543749]"
   ]
  },
  {
   "cell_type": "code",
   "execution_count": 21,
   "metadata": {},
   "outputs": [
    {
     "name": "stdout",
     "output_type": "stream",
     "text": [
      "4543749\n"
     ]
    },
    {
     "ename": "KeyError",
     "evalue": "'pid'",
     "output_type": "error",
     "traceback": [
      "\u001b[1;31m---------------------------------------------------------------------------\u001b[0m",
      "\u001b[1;31mKeyError\u001b[0m                                  Traceback (most recent call last)",
      "\u001b[1;32mc:\\Users\\CRXG46\\Desktop\\graphical-models-project\\main.ipynb Cell 4\u001b[0m in \u001b[0;36m1\n\u001b[0;32m     <a href='vscode-notebook-cell:/c%3A/Users/CRXG46/Desktop/graphical-models-project/main.ipynb#X31sZmlsZQ%3D%3D?line=11'>12</a>\u001b[0m \u001b[39mfor\u001b[39;00m pid \u001b[39min\u001b[39;00m pid_list:\n\u001b[0;32m     <a href='vscode-notebook-cell:/c%3A/Users/CRXG46/Desktop/graphical-models-project/main.ipynb#X31sZmlsZQ%3D%3D?line=12'>13</a>\u001b[0m     \u001b[39mprint\u001b[39m(pid)\n\u001b[1;32m---> <a href='vscode-notebook-cell:/c%3A/Users/CRXG46/Desktop/graphical-models-project/main.ipynb#X31sZmlsZQ%3D%3D?line=13'>14</a>\u001b[0m     age, sex\u001b[39m=\u001b[39m test\u001b[39m.\u001b[39;49mget_age_sex(pid\u001b[39m=\u001b[39;49mpid)\n\u001b[0;32m     <a href='vscode-notebook-cell:/c%3A/Users/CRXG46/Desktop/graphical-models-project/main.ipynb#X31sZmlsZQ%3D%3D?line=14'>15</a>\u001b[0m     \u001b[39mprint\u001b[39m(age, sex)\n",
      "\u001b[1;32mc:\\Users\\CRXG46\\Desktop\\graphical-models-project\\main.ipynb Cell 4\u001b[0m in \u001b[0;36m2\n\u001b[0;32m     <a href='vscode-notebook-cell:/c%3A/Users/CRXG46/Desktop/graphical-models-project/main.ipynb#X31sZmlsZQ%3D%3D?line=20'>21</a>\u001b[0m \u001b[39mdef\u001b[39;00m \u001b[39mget_age_sex\u001b[39m(\u001b[39mself\u001b[39m, pid):\n\u001b[1;32m---> <a href='vscode-notebook-cell:/c%3A/Users/CRXG46/Desktop/graphical-models-project/main.ipynb#X31sZmlsZQ%3D%3D?line=21'>22</a>\u001b[0m     res \u001b[39m=\u001b[39m \u001b[39mself\u001b[39m\u001b[39m.\u001b[39mva_person\u001b[39m.\u001b[39mloc[\u001b[39mself\u001b[39;49m\u001b[39m.\u001b[39;49mva_person\u001b[39m.\u001b[39;49mloc[\u001b[39m'\u001b[39;49m\u001b[39mpid\u001b[39;49m\u001b[39m'\u001b[39;49m]\u001b[39m==\u001b[39mpid]\n\u001b[0;32m     <a href='vscode-notebook-cell:/c%3A/Users/CRXG46/Desktop/graphical-models-project/main.ipynb#X31sZmlsZQ%3D%3D?line=22'>23</a>\u001b[0m     \u001b[39mreturn\u001b[39;00m (res[\u001b[39m'\u001b[39m\u001b[39mage\u001b[39m\u001b[39m'\u001b[39m],res[\u001b[39m'\u001b[39m\u001b[39msex\u001b[39m\u001b[39m'\u001b[39m])\n",
      "File \u001b[1;32mc:\\Users\\CRXG46\\AppData\\Local\\Programs\\Python\\Python310\\lib\\site-packages\\pandas\\core\\indexing.py:1073\u001b[0m, in \u001b[0;36m_LocationIndexer.__getitem__\u001b[1;34m(self, key)\u001b[0m\n\u001b[0;32m   1070\u001b[0m axis \u001b[39m=\u001b[39m \u001b[39mself\u001b[39m\u001b[39m.\u001b[39maxis \u001b[39mor\u001b[39;00m \u001b[39m0\u001b[39m\n\u001b[0;32m   1072\u001b[0m maybe_callable \u001b[39m=\u001b[39m com\u001b[39m.\u001b[39mapply_if_callable(key, \u001b[39mself\u001b[39m\u001b[39m.\u001b[39mobj)\n\u001b[1;32m-> 1073\u001b[0m \u001b[39mreturn\u001b[39;00m \u001b[39mself\u001b[39;49m\u001b[39m.\u001b[39;49m_getitem_axis(maybe_callable, axis\u001b[39m=\u001b[39;49maxis)\n",
      "File \u001b[1;32mc:\\Users\\CRXG46\\AppData\\Local\\Programs\\Python\\Python310\\lib\\site-packages\\pandas\\core\\indexing.py:1312\u001b[0m, in \u001b[0;36m_LocIndexer._getitem_axis\u001b[1;34m(self, key, axis)\u001b[0m\n\u001b[0;32m   1310\u001b[0m \u001b[39m# fall thru to straight lookup\u001b[39;00m\n\u001b[0;32m   1311\u001b[0m \u001b[39mself\u001b[39m\u001b[39m.\u001b[39m_validate_key(key, axis)\n\u001b[1;32m-> 1312\u001b[0m \u001b[39mreturn\u001b[39;00m \u001b[39mself\u001b[39;49m\u001b[39m.\u001b[39;49m_get_label(key, axis\u001b[39m=\u001b[39;49maxis)\n",
      "File \u001b[1;32mc:\\Users\\CRXG46\\AppData\\Local\\Programs\\Python\\Python310\\lib\\site-packages\\pandas\\core\\indexing.py:1260\u001b[0m, in \u001b[0;36m_LocIndexer._get_label\u001b[1;34m(self, label, axis)\u001b[0m\n\u001b[0;32m   1258\u001b[0m \u001b[39mdef\u001b[39;00m \u001b[39m_get_label\u001b[39m(\u001b[39mself\u001b[39m, label, axis: \u001b[39mint\u001b[39m):\n\u001b[0;32m   1259\u001b[0m     \u001b[39m# GH#5567 this will fail if the label is not present in the axis.\u001b[39;00m\n\u001b[1;32m-> 1260\u001b[0m     \u001b[39mreturn\u001b[39;00m \u001b[39mself\u001b[39;49m\u001b[39m.\u001b[39;49mobj\u001b[39m.\u001b[39;49mxs(label, axis\u001b[39m=\u001b[39;49maxis)\n",
      "File \u001b[1;32mc:\\Users\\CRXG46\\AppData\\Local\\Programs\\Python\\Python310\\lib\\site-packages\\pandas\\core\\generic.py:4056\u001b[0m, in \u001b[0;36mNDFrame.xs\u001b[1;34m(self, key, axis, level, drop_level)\u001b[0m\n\u001b[0;32m   4054\u001b[0m             new_index \u001b[39m=\u001b[39m index[loc]\n\u001b[0;32m   4055\u001b[0m \u001b[39melse\u001b[39;00m:\n\u001b[1;32m-> 4056\u001b[0m     loc \u001b[39m=\u001b[39m index\u001b[39m.\u001b[39;49mget_loc(key)\n\u001b[0;32m   4058\u001b[0m     \u001b[39mif\u001b[39;00m \u001b[39misinstance\u001b[39m(loc, np\u001b[39m.\u001b[39mndarray):\n\u001b[0;32m   4059\u001b[0m         \u001b[39mif\u001b[39;00m loc\u001b[39m.\u001b[39mdtype \u001b[39m==\u001b[39m np\u001b[39m.\u001b[39mbool_:\n",
      "File \u001b[1;32mc:\\Users\\CRXG46\\AppData\\Local\\Programs\\Python\\Python310\\lib\\site-packages\\pandas\\core\\indexes\\range.py:395\u001b[0m, in \u001b[0;36mRangeIndex.get_loc\u001b[1;34m(self, key, method, tolerance)\u001b[0m\n\u001b[0;32m    393\u001b[0m             \u001b[39mraise\u001b[39;00m \u001b[39mKeyError\u001b[39;00m(key) \u001b[39mfrom\u001b[39;00m \u001b[39merr\u001b[39;00m\n\u001b[0;32m    394\u001b[0m     \u001b[39mself\u001b[39m\u001b[39m.\u001b[39m_check_indexing_error(key)\n\u001b[1;32m--> 395\u001b[0m     \u001b[39mraise\u001b[39;00m \u001b[39mKeyError\u001b[39;00m(key)\n\u001b[0;32m    396\u001b[0m \u001b[39mreturn\u001b[39;00m \u001b[39msuper\u001b[39m()\u001b[39m.\u001b[39mget_loc(key, method\u001b[39m=\u001b[39mmethod, tolerance\u001b[39m=\u001b[39mtolerance)\n",
      "\u001b[1;31mKeyError\u001b[0m: 'pid'"
     ]
    }
   ],
   "source": [
    "\n",
    "# print(va_activity_loc_assign.head(20))\n",
    "# print(test.get_location_durations(4543749))\n",
    "# test.get_raw_time_with_infected_day(4543889,21)\n",
    "# test.get_raw_time_with_infected_week(4543889, 50)\n",
    "\n",
    "# for pid in test.va_person[\"pid\"]:\n",
    "#     get_age_sex\n",
    "pid_list = test.va_person[\"pid\"].unique()\n",
    "for day in range(56):\n",
    "    for pid in pid_list:\n",
    "        print(pid)\n",
    "        # age, sex= test.get_age_sex(pid=pid) # get age and sex\n",
    "        household_members = test.household_members(pid) # get household members for this person pid, this is a list of pids [pid1, pid2, pid3, etc...]\n",
    "        \n",
    "        test.get_raw_time_with_infected_week(pid=4543749, day=1)\n",
    "        # [pid, day, ]\n",
    "        # print(day)\n",
    "# va_disease_outcome_training\n"
   ]
  },
  {
   "cell_type": "code",
   "execution_count": 14,
   "metadata": {},
   "outputs": [
    {
     "ename": "ValueError",
     "evalue": "The truth value of a Series is ambiguous. Use a.empty, a.bool(), a.item(), a.any() or a.all().",
     "output_type": "error",
     "traceback": [
      "\u001b[1;31m---------------------------------------------------------------------------\u001b[0m",
      "\u001b[1;31mValueError\u001b[0m                                Traceback (most recent call last)",
      "Cell \u001b[1;32mIn[14], line 4\u001b[0m\n\u001b[0;32m      1\u001b[0m \u001b[39mfrom\u001b[39;00m \u001b[39mpreprocess\u001b[39;00m \u001b[39mimport\u001b[39;00m PreProcessor\n\u001b[0;32m      3\u001b[0m p \u001b[39m=\u001b[39m PreProcessor(va_activity_loc_assign, va_activity_locations, va_disease_outcome_target, va_disease_outcome_training, va_household, va_person, va_population_network, va_residence_locations)\n\u001b[1;32m----> 4\u001b[0m p\u001b[39m.\u001b[39;49mget_training_labels(\u001b[39m4543889\u001b[39;49m)\n",
      "File \u001b[1;32mc:\\Users\\kolbe\\OneDrive\\Documents\\Work\\PGM-Project\\preprocess.py:21\u001b[0m, in \u001b[0;36mPreProcessor.get_training_labels\u001b[1;34m(self, pid)\u001b[0m\n\u001b[0;32m     19\u001b[0m lab \u001b[39m=\u001b[39m \u001b[39m0\u001b[39m\n\u001b[0;32m     20\u001b[0m \u001b[39mfor\u001b[39;00m j \u001b[39min\u001b[39;00m \u001b[39mrange\u001b[39m(i\u001b[39m-\u001b[39m\u001b[39m6\u001b[39m, i\u001b[39m+\u001b[39m\u001b[39m1\u001b[39m):\n\u001b[1;32m---> 21\u001b[0m     \u001b[39mif\u001b[39;00m(outcomes\u001b[39m.\u001b[39mquery(\u001b[39m'\u001b[39m\u001b[39mday == @j\u001b[39m\u001b[39m'\u001b[39m)[\u001b[39m'\u001b[39m\u001b[39mstate\u001b[39m\u001b[39m'\u001b[39m] \u001b[39m==\u001b[39m \u001b[39m'\u001b[39m\u001b[39mI\u001b[39m\u001b[39m'\u001b[39m):\n\u001b[0;32m     22\u001b[0m         lab \u001b[39m=\u001b[39m \u001b[39m1\u001b[39m\n\u001b[0;32m     23\u001b[0m         \u001b[39mbreak\u001b[39;00m\n",
      "File \u001b[1;32mc:\\Users\\kolbe\\AppData\\Local\\Programs\\Python\\Python311\\Lib\\site-packages\\pandas\\core\\generic.py:1466\u001b[0m, in \u001b[0;36mNDFrame.__nonzero__\u001b[1;34m(self)\u001b[0m\n\u001b[0;32m   1464\u001b[0m \u001b[39m@final\u001b[39m\n\u001b[0;32m   1465\u001b[0m \u001b[39mdef\u001b[39;00m \u001b[39m__nonzero__\u001b[39m(\u001b[39mself\u001b[39m) \u001b[39m-\u001b[39m\u001b[39m>\u001b[39m NoReturn:\n\u001b[1;32m-> 1466\u001b[0m     \u001b[39mraise\u001b[39;00m \u001b[39mValueError\u001b[39;00m(\n\u001b[0;32m   1467\u001b[0m         \u001b[39mf\u001b[39m\u001b[39m\"\u001b[39m\u001b[39mThe truth value of a \u001b[39m\u001b[39m{\u001b[39;00m\u001b[39mtype\u001b[39m(\u001b[39mself\u001b[39m)\u001b[39m.\u001b[39m\u001b[39m__name__\u001b[39m\u001b[39m}\u001b[39;00m\u001b[39m is ambiguous. \u001b[39m\u001b[39m\"\u001b[39m\n\u001b[0;32m   1468\u001b[0m         \u001b[39m\"\u001b[39m\u001b[39mUse a.empty, a.bool(), a.item(), a.any() or a.all().\u001b[39m\u001b[39m\"\u001b[39m\n\u001b[0;32m   1469\u001b[0m     )\n",
      "\u001b[1;31mValueError\u001b[0m: The truth value of a Series is ambiguous. Use a.empty, a.bool(), a.item(), a.any() or a.all()."
     ]
    }
   ],
   "source": [
    "from preprocess import PreProcessor\n",
    "\n",
    "p = PreProcessor(va_activity_loc_assign, va_activity_locations, va_disease_outcome_target, va_disease_outcome_training, va_household, va_person, va_population_network, va_residence_locations)\n",
    "p.get_training_labels(4543889)\n"
   ]
  }
 ],
 "metadata": {
  "kernelspec": {
   "display_name": "Python 3",
   "language": "python",
   "name": "python3"
  },
  "language_info": {
   "codemirror_mode": {
    "name": "ipython",
    "version": 3
   },
   "file_extension": ".py",
   "mimetype": "text/x-python",
   "name": "python",
   "nbconvert_exporter": "python",
   "pygments_lexer": "ipython3",
   "version": "3.11.3"
  },
  "orig_nbformat": 4
 },
 "nbformat": 4,
 "nbformat_minor": 2
}
